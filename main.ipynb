{
 "cells": [
  {
   "cell_type": "code",
   "execution_count": 1,
   "id": "138bbe51-6435-4a12-95ae-4b0e042a11d0",
   "metadata": {},
   "outputs": [],
   "source": [
    "# Import the pathlib and csv library\n",
    "from pathlib import Path\n",
    "import csv"
   ]
  },
  {
   "cell_type": "code",
   "execution_count": 2,
   "id": "421d1e37-a67a-4492-ad6b-6ed3c7c756a5",
   "metadata": {},
   "outputs": [],
   "source": [
    "# set the file path\n",
    "csvpath = ('../PyBank/Resources/budget_data.csv')"
   ]
  },
  {
   "cell_type": "code",
   "execution_count": 3,
   "id": "fb22de2c-4ced-4b49-b323-dcf4376a56ff",
   "metadata": {},
   "outputs": [],
   "source": [
    "# initiate list \n",
    "Date = []\n",
    "PnL = []"
   ]
  },
  {
   "cell_type": "code",
   "execution_count": 4,
   "id": "2d7030c2-142b-4765-bac0-a6052060a496",
   "metadata": {},
   "outputs": [
    {
     "name": "stdout",
     "output_type": "stream",
     "text": [
      "['Date', 'Profit/Losses']\n"
     ]
    }
   ],
   "source": [
    "# import data from budget_data.csv into dates and pnl list \n",
    "with open(csvpath, \"r\") as csvfile:\n",
    "\n",
    "    # Pass in the csv file to the csv.reader() function\n",
    "    # (with ',' as the delmiter/separator) and return the csvreader object\n",
    "    csvreader = csv.reader(csvfile, delimiter=\",\")\n",
    "    # Read the header row first \n",
    "    csv_header = next(csvreader)\n",
    "    # print the header \n",
    "    print(csv_header)\n",
    "    \n",
    "    # # Read each row of data after the header\n",
    "    for row in csvreader:\n",
    "        date = row[0]\n",
    "        pnl = int(row[1])\n",
    "        Date.append(date)\n",
    "        PnL.append(pnl)\n"
   ]
  },
  {
   "cell_type": "code",
   "execution_count": 5,
   "id": "ac1e8963-7005-4d1c-8aa6-2e09dab9ad01",
   "metadata": {},
   "outputs": [],
   "source": [
    "## Calculations \n",
    "\n",
    "# Total Months\n",
    "total_months = len(Date)\n"
   ]
  },
  {
   "cell_type": "code",
   "execution_count": 6,
   "id": "04a4c521-5d83-43f5-a9cd-2246fdd62f3b",
   "metadata": {},
   "outputs": [],
   "source": [
    "# Total PNL\n",
    "total = 0\n",
    "for pnl in PnL:\n",
    "    total += pnl\n",
    "\n",
    "    "
   ]
  },
  {
   "cell_type": "code",
   "execution_count": 7,
   "id": "6ea97540-bee5-4cac-b308-6dbfdc13dbff",
   "metadata": {},
   "outputs": [],
   "source": [
    "# Date and PNL change list initializing \n",
    "pnl_change = []\n",
    "date_change = Date[1:]"
   ]
  },
  {
   "cell_type": "code",
   "execution_count": 8,
   "id": "9977578e-c433-42cf-aeb9-2eab49008c19",
   "metadata": {},
   "outputs": [],
   "source": [
    "# Add PNL changes to the pnl_change list \n",
    "\n",
    "for c in range(1,len(PnL)):\n",
    "    change = PnL[c] - PnL[c-1]\n",
    "    pnl_change.append(change)\n",
    "    \n",
    "# calculate the total PNL change \n",
    "total_change = 0\n",
    "for change in pnl_change:\n",
    "    total_change += change \n",
    "\n"
   ]
  },
  {
   "cell_type": "code",
   "execution_count": 9,
   "id": "e2f9b47b-e21c-40bf-a819-dc50fc3120a3",
   "metadata": {},
   "outputs": [],
   "source": [
    "# calculate average change \n",
    "average_change = round(total_change / len(date_change),2)"
   ]
  },
  {
   "cell_type": "code",
   "execution_count": 10,
   "id": "12340d44-1bc6-4e71-b1d0-2ae4d39d9327",
   "metadata": {},
   "outputs": [],
   "source": [
    "# Initialize greatest increase\n",
    "maximum_increase = 0\n",
    "maximum_date = ''\n",
    "# calculate to indicate maximum increase \n",
    "for a in range(0,len(pnl_change)):\n",
    "    if (pnl_change[a] > maximum_increase):\n",
    "        maximum_increase = pnl_change[a]\n",
    "        maximum_date = date_change[a]"
   ]
  },
  {
   "cell_type": "code",
   "execution_count": 11,
   "id": "5d765efd-fe9f-45e9-9cde-33e299cbc761",
   "metadata": {},
   "outputs": [],
   "source": [
    "# Initialize the greatest decrease \n",
    "maximum_decrease = 0\n",
    "maximum_loss_date = ''\n",
    "# logic to determine minimum decrease and date\n",
    "for b in range(0,len(pnl_change)):\n",
    "    if (pnl_change[b] < maximum_decrease):\n",
    "        maximum_decrease = pnl_change[b]\n",
    "        maximum_loss_date = date_change[b]\n"
   ]
  },
  {
   "cell_type": "code",
   "execution_count": 12,
   "id": "cfa565be-cfaf-4844-8082-d99970761363",
   "metadata": {},
   "outputs": [
    {
     "name": "stdout",
     "output_type": "stream",
     "text": [
      "Finanacial Analysis\n",
      "-----------------------------------------\n",
      "Total Months: 86\n",
      "Total Profite/Loss: $38382578\n",
      "Average Change: $-2315.12\n",
      "Greatest Increase:Feb-2012 , $1926159\n",
      "Greatest Decrease:Sep-2013 , $-2196167\n"
     ]
    }
   ],
   "source": [
    "# Print Results \n",
    "print('Finanacial Analysis')\n",
    "print('-----------------------------------------')\n",
    "print(f'Total Months: {total_months}')\n",
    "print(f'Total Profite/Loss: ${total}')\n",
    "print(f'Average Change: ${average_change}')\n",
    "print(f'Greatest Increase:{maximum_date} , ${maximum_increase}')\n",
    "print(f'Greatest Decrease:{maximum_loss_date} , ${maximum_decrease}')\n"
   ]
  },
  {
   "cell_type": "code",
   "execution_count": null,
   "id": "c3a2a505-1d09-4562-8068-8112b2a0cb82",
   "metadata": {},
   "outputs": [],
   "source": []
  }
 ],
 "metadata": {
  "kernelspec": {
   "display_name": "Python 3 (ipykernel)",
   "language": "python",
   "name": "python3"
  },
  "language_info": {
   "codemirror_mode": {
    "name": "ipython",
    "version": 3
   },
   "file_extension": ".py",
   "mimetype": "text/x-python",
   "name": "python",
   "nbconvert_exporter": "python",
   "pygments_lexer": "ipython3",
   "version": "3.7.13"
  }
 },
 "nbformat": 4,
 "nbformat_minor": 5
}
